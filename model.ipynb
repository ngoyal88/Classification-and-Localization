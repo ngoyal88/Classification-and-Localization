{
 "cells": [
  {
   "cell_type": "code",
   "execution_count": 123,
   "metadata": {},
   "outputs": [],
   "source": [
    "import librosa\n",
    "import os\n",
    "import pandas as pd\n",
    "import numpy as np\n",
    "\n",
    "audio_dir = 'data/gun_sound_v2'\n",
    "\n",
    "def extract_mfcc(audio_path, n_mfcc=13):\n",
    "    y, sr = librosa.load(audio_path)\n",
    "    mfcc = librosa.feature.mfcc(y=y, sr=sr, n_mfcc=n_mfcc)\n",
    "    return np.mean(mfcc, axis=1) \n",
    "\n",
    "audio_features = []\n",
    "\n",
    "for audio_file in os.listdir(audio_dir):\n",
    "    if audio_file.endswith('.mp3'):\n",
    "        audio_path = os.path.join(audio_dir, audio_file)\n",
    "        mfcc_features = extract_mfcc(audio_path)\n",
    "        audio_features.append([audio_file] + mfcc_features.tolist())\n",
    "\n",
    "mfcc_df = pd.DataFrame(audio_features, columns=[\"name\"] + [f\"mfcc_{i}\" for i in range(13)])\n",
    "mfcc_df.to_csv('mfcc_features.csv', index=False)"
   ]
  },
  {
   "cell_type": "code",
   "execution_count": 125,
   "metadata": {},
   "outputs": [],
   "source": [
    "#audio_features"
   ]
  },
  {
   "cell_type": "code",
   "execution_count": 126,
   "metadata": {},
   "outputs": [
    {
     "name": "stdout",
     "output_type": "stream",
     "text": [
      "(3537, 4)\n",
      "(1015, 4)\n"
     ]
    }
   ],
   "source": [
    "train1 = pd.read_csv('data/v3_exp1_train.csv')\n",
    "train2 = pd.read_csv('data/v3_exp2_train.csv')\n",
    "train3 = pd.read_csv('data/v3_exp3_train.csv')\n",
    "\n",
    "combined_train = pd.concat([train1, train2, train3], ignore_index=True)\n",
    "\n",
    "test1 = pd.read_csv('data/v3_exp1_test.csv')\n",
    "test2 = pd.read_csv('data/v3_exp2_test.csv')\n",
    "test3 = pd.read_csv('data/v3_exp3_test.csv')\n",
    "\n",
    "combined_test = pd.concat([test1, test2, test3], ignore_index=True)\n",
    "\n",
    "print(combined_train.shape)\n",
    "print(combined_test.shape)"
   ]
  },
  {
   "cell_type": "code",
   "execution_count": 127,
   "metadata": {},
   "outputs": [],
   "source": [
    "mfcc_df = pd.read_csv('mfcc_features.csv')\n"
   ]
  },
  {
   "cell_type": "code",
   "execution_count": 128,
   "metadata": {},
   "outputs": [],
   "source": [
    "combined_train.dropna(subset=['dist'], inplace=True)\n",
    "combined_test.dropna(subset=['dist'], inplace=True)"
   ]
  },
  {
   "cell_type": "code",
   "execution_count": 129,
   "metadata": {},
   "outputs": [
    {
     "name": "stdout",
     "output_type": "stream",
     "text": [
      "['0m' '100m' '200m' '400m' '50m' '600m']\n"
     ]
    }
   ],
   "source": [
    "print(combined_train['dist'].unique())"
   ]
  },
  {
   "cell_type": "code",
   "execution_count": 130,
   "metadata": {},
   "outputs": [],
   "source": [
    "def preprocess_distance(distance_str):\n",
    "    return float(distance_str[:-1]) \n"
   ]
  },
  {
   "cell_type": "code",
   "execution_count": 131,
   "metadata": {},
   "outputs": [],
   "source": [
    "combined_train['dist'] = combined_train['dist'].apply(preprocess_distance)\n",
    "combined_test['dist'] = combined_test['dist'].apply(preprocess_distance)"
   ]
  },
  {
   "cell_type": "code",
   "execution_count": 132,
   "metadata": {},
   "outputs": [
    {
     "name": "stdout",
     "output_type": "stream",
     "text": [
      "(3418, 17)\n",
      "(945, 17)\n"
     ]
    }
   ],
   "source": [
    "train_with_mfcc = pd.merge(combined_train, mfcc_df, on='name')\n",
    "test_with_mfcc = pd.merge(combined_test, mfcc_df, on='name')\n",
    "\n",
    "print(train_with_mfcc.shape)\n",
    "print(test_with_mfcc.shape)"
   ]
  },
  {
   "cell_type": "code",
   "execution_count": 133,
   "metadata": {},
   "outputs": [
    {
     "data": {
      "text/html": [
       "<div>\n",
       "<style scoped>\n",
       "    .dataframe tbody tr th:only-of-type {\n",
       "        vertical-align: middle;\n",
       "    }\n",
       "\n",
       "    .dataframe tbody tr th {\n",
       "        vertical-align: top;\n",
       "    }\n",
       "\n",
       "    .dataframe thead th {\n",
       "        text-align: right;\n",
       "    }\n",
       "</style>\n",
       "<table border=\"1\" class=\"dataframe\">\n",
       "  <thead>\n",
       "    <tr style=\"text-align: right;\">\n",
       "      <th></th>\n",
       "      <th>name</th>\n",
       "      <th>cate</th>\n",
       "      <th>dist</th>\n",
       "      <th>dire</th>\n",
       "      <th>mfcc_0</th>\n",
       "      <th>mfcc_1</th>\n",
       "      <th>mfcc_2</th>\n",
       "      <th>mfcc_3</th>\n",
       "      <th>mfcc_4</th>\n",
       "      <th>mfcc_5</th>\n",
       "      <th>mfcc_6</th>\n",
       "      <th>mfcc_7</th>\n",
       "      <th>mfcc_8</th>\n",
       "      <th>mfcc_9</th>\n",
       "      <th>mfcc_10</th>\n",
       "      <th>mfcc_11</th>\n",
       "      <th>mfcc_12</th>\n",
       "    </tr>\n",
       "  </thead>\n",
       "  <tbody>\n",
       "    <tr>\n",
       "      <th>0</th>\n",
       "      <td>ak_0m_center_0001.mp3</td>\n",
       "      <td>ak</td>\n",
       "      <td>0.0</td>\n",
       "      <td>center</td>\n",
       "      <td>-351.239105</td>\n",
       "      <td>53.565125</td>\n",
       "      <td>11.088269</td>\n",
       "      <td>8.196982</td>\n",
       "      <td>1.936979</td>\n",
       "      <td>7.175904</td>\n",
       "      <td>3.307310</td>\n",
       "      <td>0.957629</td>\n",
       "      <td>2.787974</td>\n",
       "      <td>5.012168</td>\n",
       "      <td>0.532845</td>\n",
       "      <td>4.628334</td>\n",
       "      <td>-0.238910</td>\n",
       "    </tr>\n",
       "    <tr>\n",
       "      <th>1</th>\n",
       "      <td>ak_0m_center_0002.mp3</td>\n",
       "      <td>ak</td>\n",
       "      <td>0.0</td>\n",
       "      <td>center</td>\n",
       "      <td>-321.528625</td>\n",
       "      <td>49.507500</td>\n",
       "      <td>7.170056</td>\n",
       "      <td>13.769941</td>\n",
       "      <td>1.185180</td>\n",
       "      <td>10.565263</td>\n",
       "      <td>2.595757</td>\n",
       "      <td>1.628103</td>\n",
       "      <td>1.459195</td>\n",
       "      <td>6.466399</td>\n",
       "      <td>-0.606562</td>\n",
       "      <td>3.867482</td>\n",
       "      <td>-1.246346</td>\n",
       "    </tr>\n",
       "    <tr>\n",
       "      <th>2</th>\n",
       "      <td>ak_0m_center_0003.mp3</td>\n",
       "      <td>ak</td>\n",
       "      <td>0.0</td>\n",
       "      <td>center</td>\n",
       "      <td>-416.266937</td>\n",
       "      <td>62.881073</td>\n",
       "      <td>13.108184</td>\n",
       "      <td>3.899353</td>\n",
       "      <td>-0.033276</td>\n",
       "      <td>6.804298</td>\n",
       "      <td>2.947388</td>\n",
       "      <td>-1.413968</td>\n",
       "      <td>0.030184</td>\n",
       "      <td>2.951718</td>\n",
       "      <td>-0.949337</td>\n",
       "      <td>2.316116</td>\n",
       "      <td>-0.806640</td>\n",
       "    </tr>\n",
       "    <tr>\n",
       "      <th>3</th>\n",
       "      <td>ak_0m_center_0004.mp3</td>\n",
       "      <td>ak</td>\n",
       "      <td>0.0</td>\n",
       "      <td>center</td>\n",
       "      <td>-278.622650</td>\n",
       "      <td>56.087826</td>\n",
       "      <td>11.520677</td>\n",
       "      <td>21.156794</td>\n",
       "      <td>5.208237</td>\n",
       "      <td>15.305903</td>\n",
       "      <td>8.001134</td>\n",
       "      <td>7.542254</td>\n",
       "      <td>8.594604</td>\n",
       "      <td>10.176992</td>\n",
       "      <td>4.099832</td>\n",
       "      <td>8.510305</td>\n",
       "      <td>2.827379</td>\n",
       "    </tr>\n",
       "    <tr>\n",
       "      <th>4</th>\n",
       "      <td>ak_0m_center_0006.mp3</td>\n",
       "      <td>ak</td>\n",
       "      <td>0.0</td>\n",
       "      <td>center</td>\n",
       "      <td>-369.432556</td>\n",
       "      <td>60.807400</td>\n",
       "      <td>17.566315</td>\n",
       "      <td>21.224545</td>\n",
       "      <td>5.947494</td>\n",
       "      <td>14.679273</td>\n",
       "      <td>7.059857</td>\n",
       "      <td>5.183119</td>\n",
       "      <td>5.629483</td>\n",
       "      <td>11.344815</td>\n",
       "      <td>5.441309</td>\n",
       "      <td>7.889458</td>\n",
       "      <td>3.987313</td>\n",
       "    </tr>\n",
       "  </tbody>\n",
       "</table>\n",
       "</div>"
      ],
      "text/plain": [
       "                    name cate  dist    dire      mfcc_0     mfcc_1     mfcc_2  \\\n",
       "0  ak_0m_center_0001.mp3   ak   0.0  center -351.239105  53.565125  11.088269   \n",
       "1  ak_0m_center_0002.mp3   ak   0.0  center -321.528625  49.507500   7.170056   \n",
       "2  ak_0m_center_0003.mp3   ak   0.0  center -416.266937  62.881073  13.108184   \n",
       "3  ak_0m_center_0004.mp3   ak   0.0  center -278.622650  56.087826  11.520677   \n",
       "4  ak_0m_center_0006.mp3   ak   0.0  center -369.432556  60.807400  17.566315   \n",
       "\n",
       "      mfcc_3    mfcc_4     mfcc_5    mfcc_6    mfcc_7    mfcc_8     mfcc_9  \\\n",
       "0   8.196982  1.936979   7.175904  3.307310  0.957629  2.787974   5.012168   \n",
       "1  13.769941  1.185180  10.565263  2.595757  1.628103  1.459195   6.466399   \n",
       "2   3.899353 -0.033276   6.804298  2.947388 -1.413968  0.030184   2.951718   \n",
       "3  21.156794  5.208237  15.305903  8.001134  7.542254  8.594604  10.176992   \n",
       "4  21.224545  5.947494  14.679273  7.059857  5.183119  5.629483  11.344815   \n",
       "\n",
       "    mfcc_10   mfcc_11   mfcc_12  \n",
       "0  0.532845  4.628334 -0.238910  \n",
       "1 -0.606562  3.867482 -1.246346  \n",
       "2 -0.949337  2.316116 -0.806640  \n",
       "3  4.099832  8.510305  2.827379  \n",
       "4  5.441309  7.889458  3.987313  "
      ]
     },
     "execution_count": 133,
     "metadata": {},
     "output_type": "execute_result"
    }
   ],
   "source": [
    "train_with_mfcc.head()"
   ]
  },
  {
   "cell_type": "code",
   "execution_count": 134,
   "metadata": {},
   "outputs": [],
   "source": [
    "X_train = train_with_mfcc.drop(columns=['name', 'cate', 'dist', 'dire']).values\n",
    "y_cate_train = train_with_mfcc['cate'].values\n",
    "y_dist_train = train_with_mfcc['dist'].values\n",
    "y_direction_train = train_with_mfcc['dire'].values   \n"
   ]
  },
  {
   "cell_type": "code",
   "execution_count": 135,
   "metadata": {},
   "outputs": [],
   "source": [
    "X_test = test_with_mfcc.drop(columns=['name', 'cate', 'dist', 'dire']).values\n",
    "y_cate_test = test_with_mfcc['cate'].values\n",
    "y_dist_test = test_with_mfcc['dist'].values\n",
    "y_direction_test = test_with_mfcc['dire'].values"
   ]
  },
  {
   "cell_type": "code",
   "execution_count": 136,
   "metadata": {},
   "outputs": [
    {
     "name": "stdout",
     "output_type": "stream",
     "text": [
      "(3418, 13) (3418,) (3418,) (3418,)\n"
     ]
    }
   ],
   "source": [
    "print(X.shape,y_direction.shape,y_cate.shape,y_dist.shape)"
   ]
  },
  {
   "cell_type": "code",
   "execution_count": 137,
   "metadata": {},
   "outputs": [],
   "source": [
    "from sklearn.preprocessing import LabelEncoder\n",
    "from sklearn.model_selection import train_test_split\n",
    "import numpy as np\n",
    "\n",
    "le_cate = LabelEncoder()\n",
    "y_cate_train_encoded = le_cate.fit_transform(y_cate_train)\n",
    "\n",
    "le_direction = LabelEncoder()\n",
    "y_direction_train_encoded = le_direction.fit_transform(y_direction_train)\n",
    "\n",
    "y_dist_train_encoded = LabelEncoder().fit_transform(y_dist_train)\n",
    "\n",
    "y_cate_test_encoded = le_cate.transform(y_cate_test)\n",
    "y_direction_test_encoded = le_direction.transform(y_direction_test)\n",
    "y_dist_test_encoded = LabelEncoder().fit_transform(y_dist_test)"
   ]
  },
  {
   "cell_type": "code",
   "execution_count": 138,
   "metadata": {},
   "outputs": [],
   "source": [
    "import tensorflow as tf\n",
    "from tensorflow.keras import layers, models\n",
    "\n",
    "input_shape = (X.shape[1],) \n",
    "\n",
    "inputs = layers.Input(shape=input_shape)\n",
    "\n",
    "x = layers.Dense(128, activation='relu')(inputs)\n",
    "x = layers.Dropout(0.3)(x)\n",
    "x = layers.Dense(64, activation='relu')(x)\n",
    "x = layers.Dropout(0.3)(x)\n",
    "\n",
    "category_output = layers.Dense(len(np.unique(y_cate_train_encoded)), activation='softmax', name='category_output')(x)\n",
    "direction_output = layers.Dense(len(np.unique(y_direction_train_encoded)), activation='softmax', name='direction_output')(x)\n",
    "distance_output = layers.Dense(len(np.unique(y_dist_train_encoded)), activation='softmax', name='distance_output')(x)\n",
    "\n",
    "model = models.Model(inputs=inputs, outputs=[category_output, direction_output, distance_output])\n"
   ]
  },
  {
   "cell_type": "code",
   "execution_count": 139,
   "metadata": {},
   "outputs": [],
   "source": [
    "model.compile(optimizer='adam',\n",
    "              loss={'category_output': 'sparse_categorical_crossentropy', \n",
    "                    'direction_output': 'sparse_categorical_crossentropy', \n",
    "                    'distance_output': 'sparse_categorical_crossentropy'},\n",
    "              metrics={'category_output': 'accuracy', \n",
    "                       'direction_output': 'accuracy', \n",
    "                       'distance_output': 'accuracy'})"
   ]
  },
  {
   "cell_type": "code",
   "execution_count": 140,
   "metadata": {},
   "outputs": [
    {
     "data": {
      "text/html": [
       "<pre style=\"white-space:pre;overflow-x:auto;line-height:normal;font-family:Menlo,'DejaVu Sans Mono',consolas,'Courier New',monospace\"><span style=\"font-weight: bold\">Model: \"functional_19\"</span>\n",
       "</pre>\n"
      ],
      "text/plain": [
       "\u001b[1mModel: \"functional_19\"\u001b[0m\n"
      ]
     },
     "metadata": {},
     "output_type": "display_data"
    },
    {
     "data": {
      "text/html": [
       "<pre style=\"white-space:pre;overflow-x:auto;line-height:normal;font-family:Menlo,'DejaVu Sans Mono',consolas,'Courier New',monospace\">┏━━━━━━━━━━━━━━━━━━━━━┳━━━━━━━━━━━━━━━━━━━┳━━━━━━━━━━━━┳━━━━━━━━━━━━━━━━━━━┓\n",
       "┃<span style=\"font-weight: bold\"> Layer (type)        </span>┃<span style=\"font-weight: bold\"> Output Shape      </span>┃<span style=\"font-weight: bold\">    Param # </span>┃<span style=\"font-weight: bold\"> Connected to      </span>┃\n",
       "┡━━━━━━━━━━━━━━━━━━━━━╇━━━━━━━━━━━━━━━━━━━╇━━━━━━━━━━━━╇━━━━━━━━━━━━━━━━━━━┩\n",
       "│ input_layer_10      │ (<span style=\"color: #00d7ff; text-decoration-color: #00d7ff\">None</span>, <span style=\"color: #00af00; text-decoration-color: #00af00\">13</span>)        │          <span style=\"color: #00af00; text-decoration-color: #00af00\">0</span> │ -                 │\n",
       "│ (<span style=\"color: #0087ff; text-decoration-color: #0087ff\">InputLayer</span>)        │                   │            │                   │\n",
       "├─────────────────────┼───────────────────┼────────────┼───────────────────┤\n",
       "│ dense_14 (<span style=\"color: #0087ff; text-decoration-color: #0087ff\">Dense</span>)    │ (<span style=\"color: #00d7ff; text-decoration-color: #00d7ff\">None</span>, <span style=\"color: #00af00; text-decoration-color: #00af00\">128</span>)       │      <span style=\"color: #00af00; text-decoration-color: #00af00\">1,792</span> │ input_layer_10[<span style=\"color: #00af00; text-decoration-color: #00af00\">0</span>… │\n",
       "├─────────────────────┼───────────────────┼────────────┼───────────────────┤\n",
       "│ dropout_11          │ (<span style=\"color: #00d7ff; text-decoration-color: #00d7ff\">None</span>, <span style=\"color: #00af00; text-decoration-color: #00af00\">128</span>)       │          <span style=\"color: #00af00; text-decoration-color: #00af00\">0</span> │ dense_14[<span style=\"color: #00af00; text-decoration-color: #00af00\">0</span>][<span style=\"color: #00af00; text-decoration-color: #00af00\">0</span>]    │\n",
       "│ (<span style=\"color: #0087ff; text-decoration-color: #0087ff\">Dropout</span>)           │                   │            │                   │\n",
       "├─────────────────────┼───────────────────┼────────────┼───────────────────┤\n",
       "│ dense_15 (<span style=\"color: #0087ff; text-decoration-color: #0087ff\">Dense</span>)    │ (<span style=\"color: #00d7ff; text-decoration-color: #00d7ff\">None</span>, <span style=\"color: #00af00; text-decoration-color: #00af00\">64</span>)        │      <span style=\"color: #00af00; text-decoration-color: #00af00\">8,256</span> │ dropout_11[<span style=\"color: #00af00; text-decoration-color: #00af00\">0</span>][<span style=\"color: #00af00; text-decoration-color: #00af00\">0</span>]  │\n",
       "├─────────────────────┼───────────────────┼────────────┼───────────────────┤\n",
       "│ dropout_12          │ (<span style=\"color: #00d7ff; text-decoration-color: #00d7ff\">None</span>, <span style=\"color: #00af00; text-decoration-color: #00af00\">64</span>)        │          <span style=\"color: #00af00; text-decoration-color: #00af00\">0</span> │ dense_15[<span style=\"color: #00af00; text-decoration-color: #00af00\">0</span>][<span style=\"color: #00af00; text-decoration-color: #00af00\">0</span>]    │\n",
       "│ (<span style=\"color: #0087ff; text-decoration-color: #0087ff\">Dropout</span>)           │                   │            │                   │\n",
       "├─────────────────────┼───────────────────┼────────────┼───────────────────┤\n",
       "│ category_output     │ (<span style=\"color: #00d7ff; text-decoration-color: #00d7ff\">None</span>, <span style=\"color: #00af00; text-decoration-color: #00af00\">37</span>)        │      <span style=\"color: #00af00; text-decoration-color: #00af00\">2,405</span> │ dropout_12[<span style=\"color: #00af00; text-decoration-color: #00af00\">0</span>][<span style=\"color: #00af00; text-decoration-color: #00af00\">0</span>]  │\n",
       "│ (<span style=\"color: #0087ff; text-decoration-color: #0087ff\">Dense</span>)             │                   │            │                   │\n",
       "├─────────────────────┼───────────────────┼────────────┼───────────────────┤\n",
       "│ direction_output    │ (<span style=\"color: #00d7ff; text-decoration-color: #00d7ff\">None</span>, <span style=\"color: #00af00; text-decoration-color: #00af00\">5</span>)         │        <span style=\"color: #00af00; text-decoration-color: #00af00\">325</span> │ dropout_12[<span style=\"color: #00af00; text-decoration-color: #00af00\">0</span>][<span style=\"color: #00af00; text-decoration-color: #00af00\">0</span>]  │\n",
       "│ (<span style=\"color: #0087ff; text-decoration-color: #0087ff\">Dense</span>)             │                   │            │                   │\n",
       "├─────────────────────┼───────────────────┼────────────┼───────────────────┤\n",
       "│ distance_output     │ (<span style=\"color: #00d7ff; text-decoration-color: #00d7ff\">None</span>, <span style=\"color: #00af00; text-decoration-color: #00af00\">6</span>)         │        <span style=\"color: #00af00; text-decoration-color: #00af00\">390</span> │ dropout_12[<span style=\"color: #00af00; text-decoration-color: #00af00\">0</span>][<span style=\"color: #00af00; text-decoration-color: #00af00\">0</span>]  │\n",
       "│ (<span style=\"color: #0087ff; text-decoration-color: #0087ff\">Dense</span>)             │                   │            │                   │\n",
       "└─────────────────────┴───────────────────┴────────────┴───────────────────┘\n",
       "</pre>\n"
      ],
      "text/plain": [
       "┏━━━━━━━━━━━━━━━━━━━━━┳━━━━━━━━━━━━━━━━━━━┳━━━━━━━━━━━━┳━━━━━━━━━━━━━━━━━━━┓\n",
       "┃\u001b[1m \u001b[0m\u001b[1mLayer (type)       \u001b[0m\u001b[1m \u001b[0m┃\u001b[1m \u001b[0m\u001b[1mOutput Shape     \u001b[0m\u001b[1m \u001b[0m┃\u001b[1m \u001b[0m\u001b[1m   Param #\u001b[0m\u001b[1m \u001b[0m┃\u001b[1m \u001b[0m\u001b[1mConnected to     \u001b[0m\u001b[1m \u001b[0m┃\n",
       "┡━━━━━━━━━━━━━━━━━━━━━╇━━━━━━━━━━━━━━━━━━━╇━━━━━━━━━━━━╇━━━━━━━━━━━━━━━━━━━┩\n",
       "│ input_layer_10      │ (\u001b[38;5;45mNone\u001b[0m, \u001b[38;5;34m13\u001b[0m)        │          \u001b[38;5;34m0\u001b[0m │ -                 │\n",
       "│ (\u001b[38;5;33mInputLayer\u001b[0m)        │                   │            │                   │\n",
       "├─────────────────────┼───────────────────┼────────────┼───────────────────┤\n",
       "│ dense_14 (\u001b[38;5;33mDense\u001b[0m)    │ (\u001b[38;5;45mNone\u001b[0m, \u001b[38;5;34m128\u001b[0m)       │      \u001b[38;5;34m1,792\u001b[0m │ input_layer_10[\u001b[38;5;34m0\u001b[0m… │\n",
       "├─────────────────────┼───────────────────┼────────────┼───────────────────┤\n",
       "│ dropout_11          │ (\u001b[38;5;45mNone\u001b[0m, \u001b[38;5;34m128\u001b[0m)       │          \u001b[38;5;34m0\u001b[0m │ dense_14[\u001b[38;5;34m0\u001b[0m][\u001b[38;5;34m0\u001b[0m]    │\n",
       "│ (\u001b[38;5;33mDropout\u001b[0m)           │                   │            │                   │\n",
       "├─────────────────────┼───────────────────┼────────────┼───────────────────┤\n",
       "│ dense_15 (\u001b[38;5;33mDense\u001b[0m)    │ (\u001b[38;5;45mNone\u001b[0m, \u001b[38;5;34m64\u001b[0m)        │      \u001b[38;5;34m8,256\u001b[0m │ dropout_11[\u001b[38;5;34m0\u001b[0m][\u001b[38;5;34m0\u001b[0m]  │\n",
       "├─────────────────────┼───────────────────┼────────────┼───────────────────┤\n",
       "│ dropout_12          │ (\u001b[38;5;45mNone\u001b[0m, \u001b[38;5;34m64\u001b[0m)        │          \u001b[38;5;34m0\u001b[0m │ dense_15[\u001b[38;5;34m0\u001b[0m][\u001b[38;5;34m0\u001b[0m]    │\n",
       "│ (\u001b[38;5;33mDropout\u001b[0m)           │                   │            │                   │\n",
       "├─────────────────────┼───────────────────┼────────────┼───────────────────┤\n",
       "│ category_output     │ (\u001b[38;5;45mNone\u001b[0m, \u001b[38;5;34m37\u001b[0m)        │      \u001b[38;5;34m2,405\u001b[0m │ dropout_12[\u001b[38;5;34m0\u001b[0m][\u001b[38;5;34m0\u001b[0m]  │\n",
       "│ (\u001b[38;5;33mDense\u001b[0m)             │                   │            │                   │\n",
       "├─────────────────────┼───────────────────┼────────────┼───────────────────┤\n",
       "│ direction_output    │ (\u001b[38;5;45mNone\u001b[0m, \u001b[38;5;34m5\u001b[0m)         │        \u001b[38;5;34m325\u001b[0m │ dropout_12[\u001b[38;5;34m0\u001b[0m][\u001b[38;5;34m0\u001b[0m]  │\n",
       "│ (\u001b[38;5;33mDense\u001b[0m)             │                   │            │                   │\n",
       "├─────────────────────┼───────────────────┼────────────┼───────────────────┤\n",
       "│ distance_output     │ (\u001b[38;5;45mNone\u001b[0m, \u001b[38;5;34m6\u001b[0m)         │        \u001b[38;5;34m390\u001b[0m │ dropout_12[\u001b[38;5;34m0\u001b[0m][\u001b[38;5;34m0\u001b[0m]  │\n",
       "│ (\u001b[38;5;33mDense\u001b[0m)             │                   │            │                   │\n",
       "└─────────────────────┴───────────────────┴────────────┴───────────────────┘\n"
      ]
     },
     "metadata": {},
     "output_type": "display_data"
    },
    {
     "data": {
      "text/html": [
       "<pre style=\"white-space:pre;overflow-x:auto;line-height:normal;font-family:Menlo,'DejaVu Sans Mono',consolas,'Courier New',monospace\"><span style=\"font-weight: bold\"> Total params: </span><span style=\"color: #00af00; text-decoration-color: #00af00\">13,168</span> (51.44 KB)\n",
       "</pre>\n"
      ],
      "text/plain": [
       "\u001b[1m Total params: \u001b[0m\u001b[38;5;34m13,168\u001b[0m (51.44 KB)\n"
      ]
     },
     "metadata": {},
     "output_type": "display_data"
    },
    {
     "data": {
      "text/html": [
       "<pre style=\"white-space:pre;overflow-x:auto;line-height:normal;font-family:Menlo,'DejaVu Sans Mono',consolas,'Courier New',monospace\"><span style=\"font-weight: bold\"> Trainable params: </span><span style=\"color: #00af00; text-decoration-color: #00af00\">13,168</span> (51.44 KB)\n",
       "</pre>\n"
      ],
      "text/plain": [
       "\u001b[1m Trainable params: \u001b[0m\u001b[38;5;34m13,168\u001b[0m (51.44 KB)\n"
      ]
     },
     "metadata": {},
     "output_type": "display_data"
    },
    {
     "data": {
      "text/html": [
       "<pre style=\"white-space:pre;overflow-x:auto;line-height:normal;font-family:Menlo,'DejaVu Sans Mono',consolas,'Courier New',monospace\"><span style=\"font-weight: bold\"> Non-trainable params: </span><span style=\"color: #00af00; text-decoration-color: #00af00\">0</span> (0.00 B)\n",
       "</pre>\n"
      ],
      "text/plain": [
       "\u001b[1m Non-trainable params: \u001b[0m\u001b[38;5;34m0\u001b[0m (0.00 B)\n"
      ]
     },
     "metadata": {},
     "output_type": "display_data"
    }
   ],
   "source": [
    "model.summary()"
   ]
  },
  {
   "cell_type": "code",
   "execution_count": 141,
   "metadata": {},
   "outputs": [
    {
     "name": "stdout",
     "output_type": "stream",
     "text": [
      "Epoch 1/100\n"
     ]
    },
    {
     "name": "stdout",
     "output_type": "stream",
     "text": [
      "\u001b[1m86/86\u001b[0m \u001b[32m━━━━━━━━━━━━━━━━━━━━\u001b[0m\u001b[37m\u001b[0m \u001b[1m7s\u001b[0m 15ms/step - category_output_accuracy: 0.0759 - direction_output_accuracy: 0.2670 - distance_output_accuracy: 0.1910 - loss: 85.2096 - val_category_output_accuracy: 0.0599 - val_direction_output_accuracy: 0.5395 - val_distance_output_accuracy: 0.5395 - val_loss: 6.9224\n",
      "Epoch 2/100\n",
      "\u001b[1m86/86\u001b[0m \u001b[32m━━━━━━━━━━━━━━━━━━━━\u001b[0m\u001b[37m\u001b[0m \u001b[1m1s\u001b[0m 7ms/step - category_output_accuracy: 0.2228 - direction_output_accuracy: 0.3757 - distance_output_accuracy: 0.3748 - loss: 7.6309 - val_category_output_accuracy: 0.0599 - val_direction_output_accuracy: 0.5395 - val_distance_output_accuracy: 0.5395 - val_loss: 6.7998\n",
      "Epoch 3/100\n",
      "\u001b[1m86/86\u001b[0m \u001b[32m━━━━━━━━━━━━━━━━━━━━\u001b[0m\u001b[37m\u001b[0m \u001b[1m1s\u001b[0m 9ms/step - category_output_accuracy: 0.2486 - direction_output_accuracy: 0.4050 - distance_output_accuracy: 0.4082 - loss: 6.9412 - val_category_output_accuracy: 0.0599 - val_direction_output_accuracy: 0.5395 - val_distance_output_accuracy: 0.5395 - val_loss: 6.6778\n",
      "Epoch 4/100\n",
      "\u001b[1m86/86\u001b[0m \u001b[32m━━━━━━━━━━━━━━━━━━━━\u001b[0m\u001b[37m\u001b[0m \u001b[1m1s\u001b[0m 11ms/step - category_output_accuracy: 0.2562 - direction_output_accuracy: 0.4219 - distance_output_accuracy: 0.4293 - loss: 6.7261 - val_category_output_accuracy: 0.0088 - val_direction_output_accuracy: 0.5556 - val_distance_output_accuracy: 0.5409 - val_loss: 6.5023\n",
      "Epoch 5/100\n",
      "\u001b[1m86/86\u001b[0m \u001b[32m━━━━━━━━━━━━━━━━━━━━\u001b[0m\u001b[37m\u001b[0m \u001b[1m1s\u001b[0m 11ms/step - category_output_accuracy: 0.3137 - direction_output_accuracy: 0.4434 - distance_output_accuracy: 0.4452 - loss: 6.3754 - val_category_output_accuracy: 0.0088 - val_direction_output_accuracy: 0.5658 - val_distance_output_accuracy: 0.5482 - val_loss: 6.2891\n",
      "Epoch 6/100\n",
      "\u001b[1m86/86\u001b[0m \u001b[32m━━━━━━━━━━━━━━━━━━━━\u001b[0m\u001b[37m\u001b[0m \u001b[1m1s\u001b[0m 10ms/step - category_output_accuracy: 0.3132 - direction_output_accuracy: 0.4546 - distance_output_accuracy: 0.4669 - loss: 6.1089 - val_category_output_accuracy: 0.0117 - val_direction_output_accuracy: 0.5848 - val_distance_output_accuracy: 0.6345 - val_loss: 5.8070\n",
      "Epoch 7/100\n",
      "\u001b[1m86/86\u001b[0m \u001b[32m━━━━━━━━━━━━━━━━━━━━\u001b[0m\u001b[37m\u001b[0m \u001b[1m1s\u001b[0m 7ms/step - category_output_accuracy: 0.3345 - direction_output_accuracy: 0.4413 - distance_output_accuracy: 0.4379 - loss: 5.9218 - val_category_output_accuracy: 0.0102 - val_direction_output_accuracy: 0.5863 - val_distance_output_accuracy: 0.6111 - val_loss: 5.7151\n",
      "Epoch 8/100\n",
      "\u001b[1m86/86\u001b[0m \u001b[32m━━━━━━━━━━━━━━━━━━━━\u001b[0m\u001b[37m\u001b[0m \u001b[1m1s\u001b[0m 7ms/step - category_output_accuracy: 0.3290 - direction_output_accuracy: 0.4460 - distance_output_accuracy: 0.4511 - loss: 5.7325 - val_category_output_accuracy: 0.0117 - val_direction_output_accuracy: 0.5980 - val_distance_output_accuracy: 0.5775 - val_loss: 5.4020\n",
      "Epoch 9/100\n",
      "\u001b[1m86/86\u001b[0m \u001b[32m━━━━━━━━━━━━━━━━━━━━\u001b[0m\u001b[37m\u001b[0m \u001b[1m1s\u001b[0m 10ms/step - category_output_accuracy: 0.3008 - direction_output_accuracy: 0.4510 - distance_output_accuracy: 0.4544 - loss: 5.5594 - val_category_output_accuracy: 0.0117 - val_direction_output_accuracy: 0.5936 - val_distance_output_accuracy: 0.6520 - val_loss: 5.0701\n",
      "Epoch 10/100\n",
      "\u001b[1m86/86\u001b[0m \u001b[32m━━━━━━━━━━━━━━━━━━━━\u001b[0m\u001b[37m\u001b[0m \u001b[1m3s\u001b[0m 33ms/step - category_output_accuracy: 0.2801 - direction_output_accuracy: 0.4543 - distance_output_accuracy: 0.4702 - loss: 5.2534 - val_category_output_accuracy: 0.0102 - val_direction_output_accuracy: 0.6082 - val_distance_output_accuracy: 0.5658 - val_loss: 4.9474\n",
      "Epoch 11/100\n",
      "\u001b[1m86/86\u001b[0m \u001b[32m━━━━━━━━━━━━━━━━━━━━\u001b[0m\u001b[37m\u001b[0m \u001b[1m1s\u001b[0m 6ms/step - category_output_accuracy: 0.2949 - direction_output_accuracy: 0.4782 - distance_output_accuracy: 0.4725 - loss: 5.1847 - val_category_output_accuracy: 0.0132 - val_direction_output_accuracy: 0.5950 - val_distance_output_accuracy: 0.6184 - val_loss: 4.7344\n",
      "Epoch 12/100\n",
      "\u001b[1m86/86\u001b[0m \u001b[32m━━━━━━━━━━━━━━━━━━━━\u001b[0m\u001b[37m\u001b[0m \u001b[1m1s\u001b[0m 8ms/step - category_output_accuracy: 0.2701 - direction_output_accuracy: 0.4827 - distance_output_accuracy: 0.4818 - loss: 5.0198 - val_category_output_accuracy: 0.0395 - val_direction_output_accuracy: 0.5936 - val_distance_output_accuracy: 0.6608 - val_loss: 4.6812\n",
      "Epoch 13/100\n",
      "\u001b[1m86/86\u001b[0m \u001b[32m━━━━━━━━━━━━━━━━━━━━\u001b[0m\u001b[37m\u001b[0m \u001b[1m1s\u001b[0m 11ms/step - category_output_accuracy: 0.3020 - direction_output_accuracy: 0.4787 - distance_output_accuracy: 0.4800 - loss: 4.9496 - val_category_output_accuracy: 0.0307 - val_direction_output_accuracy: 0.6404 - val_distance_output_accuracy: 0.6213 - val_loss: 4.5960\n",
      "Epoch 14/100\n",
      "\u001b[1m86/86\u001b[0m \u001b[32m━━━━━━━━━━━━━━━━━━━━\u001b[0m\u001b[37m\u001b[0m \u001b[1m1s\u001b[0m 12ms/step - category_output_accuracy: 0.2965 - direction_output_accuracy: 0.4953 - distance_output_accuracy: 0.4999 - loss: 4.8474 - val_category_output_accuracy: 0.0102 - val_direction_output_accuracy: 0.6389 - val_distance_output_accuracy: 0.6287 - val_loss: 4.5264\n",
      "Epoch 15/100\n",
      "\u001b[1m86/86\u001b[0m \u001b[32m━━━━━━━━━━━━━━━━━━━━\u001b[0m\u001b[37m\u001b[0m \u001b[1m1s\u001b[0m 8ms/step - category_output_accuracy: 0.3384 - direction_output_accuracy: 0.4976 - distance_output_accuracy: 0.4958 - loss: 4.6837 - val_category_output_accuracy: 0.0351 - val_direction_output_accuracy: 0.6418 - val_distance_output_accuracy: 0.6433 - val_loss: 4.3610\n",
      "Epoch 16/100\n",
      "\u001b[1m86/86\u001b[0m \u001b[32m━━━━━━━━━━━━━━━━━━━━\u001b[0m\u001b[37m\u001b[0m \u001b[1m1s\u001b[0m 7ms/step - category_output_accuracy: 0.3357 - direction_output_accuracy: 0.4988 - distance_output_accuracy: 0.5143 - loss: 4.5142 - val_category_output_accuracy: 0.0161 - val_direction_output_accuracy: 0.6184 - val_distance_output_accuracy: 0.6345 - val_loss: 4.3157\n",
      "Epoch 17/100\n",
      "\u001b[1m86/86\u001b[0m \u001b[32m━━━━━━━━━━━━━━━━━━━━\u001b[0m\u001b[37m\u001b[0m \u001b[1m1s\u001b[0m 6ms/step - category_output_accuracy: 0.3548 - direction_output_accuracy: 0.5162 - distance_output_accuracy: 0.5350 - loss: 4.4822 - val_category_output_accuracy: 0.0117 - val_direction_output_accuracy: 0.6184 - val_distance_output_accuracy: 0.6506 - val_loss: 4.2186\n",
      "Epoch 18/100\n",
      "\u001b[1m86/86\u001b[0m \u001b[32m━━━━━━━━━━━━━━━━━━━━\u001b[0m\u001b[37m\u001b[0m \u001b[1m1s\u001b[0m 8ms/step - category_output_accuracy: 0.3534 - direction_output_accuracy: 0.4907 - distance_output_accuracy: 0.5016 - loss: 4.4557 - val_category_output_accuracy: 0.0292 - val_direction_output_accuracy: 0.6287 - val_distance_output_accuracy: 0.6988 - val_loss: 4.2794\n",
      "Epoch 19/100\n",
      "\u001b[1m86/86\u001b[0m \u001b[32m━━━━━━━━━━━━━━━━━━━━\u001b[0m\u001b[37m\u001b[0m \u001b[1m1s\u001b[0m 9ms/step - category_output_accuracy: 0.3563 - direction_output_accuracy: 0.5124 - distance_output_accuracy: 0.5242 - loss: 4.4360 - val_category_output_accuracy: 0.0117 - val_direction_output_accuracy: 0.6184 - val_distance_output_accuracy: 0.6564 - val_loss: 4.2259\n",
      "Epoch 20/100\n",
      "\u001b[1m86/86\u001b[0m \u001b[32m━━━━━━━━━━━━━━━━━━━━\u001b[0m\u001b[37m\u001b[0m \u001b[1m1s\u001b[0m 6ms/step - category_output_accuracy: 0.3469 - direction_output_accuracy: 0.5157 - distance_output_accuracy: 0.5575 - loss: 4.3200 - val_category_output_accuracy: 0.0132 - val_direction_output_accuracy: 0.6140 - val_distance_output_accuracy: 0.6871 - val_loss: 4.2562\n",
      "Epoch 21/100\n",
      "\u001b[1m86/86\u001b[0m \u001b[32m━━━━━━━━━━━━━━━━━━━━\u001b[0m\u001b[37m\u001b[0m \u001b[1m1s\u001b[0m 8ms/step - category_output_accuracy: 0.3758 - direction_output_accuracy: 0.5126 - distance_output_accuracy: 0.5402 - loss: 4.3224 - val_category_output_accuracy: 0.0102 - val_direction_output_accuracy: 0.6316 - val_distance_output_accuracy: 0.6711 - val_loss: 4.2316\n",
      "Epoch 22/100\n",
      "\u001b[1m86/86\u001b[0m \u001b[32m━━━━━━━━━━━━━━━━━━━━\u001b[0m\u001b[37m\u001b[0m \u001b[1m1s\u001b[0m 7ms/step - category_output_accuracy: 0.3689 - direction_output_accuracy: 0.5176 - distance_output_accuracy: 0.5510 - loss: 4.2634 - val_category_output_accuracy: 0.0219 - val_direction_output_accuracy: 0.6374 - val_distance_output_accuracy: 0.6959 - val_loss: 4.1445\n",
      "Epoch 23/100\n",
      "\u001b[1m86/86\u001b[0m \u001b[32m━━━━━━━━━━━━━━━━━━━━\u001b[0m\u001b[37m\u001b[0m \u001b[1m1s\u001b[0m 7ms/step - category_output_accuracy: 0.3915 - direction_output_accuracy: 0.5130 - distance_output_accuracy: 0.5376 - loss: 4.2653 - val_category_output_accuracy: 0.0161 - val_direction_output_accuracy: 0.6316 - val_distance_output_accuracy: 0.7544 - val_loss: 4.1579\n",
      "Epoch 24/100\n",
      "\u001b[1m86/86\u001b[0m \u001b[32m━━━━━━━━━━━━━━━━━━━━\u001b[0m\u001b[37m\u001b[0m \u001b[1m1s\u001b[0m 9ms/step - category_output_accuracy: 0.3864 - direction_output_accuracy: 0.5221 - distance_output_accuracy: 0.5439 - loss: 4.2944 - val_category_output_accuracy: 0.0395 - val_direction_output_accuracy: 0.6316 - val_distance_output_accuracy: 0.7398 - val_loss: 4.1805\n",
      "Epoch 25/100\n",
      "\u001b[1m86/86\u001b[0m \u001b[32m━━━━━━━━━━━━━━━━━━━━\u001b[0m\u001b[37m\u001b[0m \u001b[1m1s\u001b[0m 6ms/step - category_output_accuracy: 0.3936 - direction_output_accuracy: 0.5216 - distance_output_accuracy: 0.5577 - loss: 4.1524 - val_category_output_accuracy: 0.0424 - val_direction_output_accuracy: 0.6652 - val_distance_output_accuracy: 0.7310 - val_loss: 4.0665\n",
      "Epoch 26/100\n",
      "\u001b[1m86/86\u001b[0m \u001b[32m━━━━━━━━━━━━━━━━━━━━\u001b[0m\u001b[37m\u001b[0m \u001b[1m1s\u001b[0m 8ms/step - category_output_accuracy: 0.4149 - direction_output_accuracy: 0.5203 - distance_output_accuracy: 0.5607 - loss: 4.1170 - val_category_output_accuracy: 0.0482 - val_direction_output_accuracy: 0.6330 - val_distance_output_accuracy: 0.7588 - val_loss: 4.1343\n",
      "Epoch 27/100\n",
      "\u001b[1m86/86\u001b[0m \u001b[32m━━━━━━━━━━━━━━━━━━━━\u001b[0m\u001b[37m\u001b[0m \u001b[1m1s\u001b[0m 9ms/step - category_output_accuracy: 0.4189 - direction_output_accuracy: 0.5373 - distance_output_accuracy: 0.5819 - loss: 4.0332 - val_category_output_accuracy: 0.0322 - val_direction_output_accuracy: 0.6535 - val_distance_output_accuracy: 0.6944 - val_loss: 4.1231\n",
      "Epoch 28/100\n",
      "\u001b[1m86/86\u001b[0m \u001b[32m━━━━━━━━━━━━━━━━━━━━\u001b[0m\u001b[37m\u001b[0m \u001b[1m1s\u001b[0m 7ms/step - category_output_accuracy: 0.4096 - direction_output_accuracy: 0.5424 - distance_output_accuracy: 0.5664 - loss: 4.0514 - val_category_output_accuracy: 0.0409 - val_direction_output_accuracy: 0.6360 - val_distance_output_accuracy: 0.7485 - val_loss: 4.0716\n",
      "Epoch 29/100\n",
      "\u001b[1m86/86\u001b[0m \u001b[32m━━━━━━━━━━━━━━━━━━━━\u001b[0m\u001b[37m\u001b[0m \u001b[1m1s\u001b[0m 5ms/step - category_output_accuracy: 0.4221 - direction_output_accuracy: 0.5366 - distance_output_accuracy: 0.5929 - loss: 3.9918 - val_category_output_accuracy: 0.0395 - val_direction_output_accuracy: 0.6374 - val_distance_output_accuracy: 0.7456 - val_loss: 4.0350\n",
      "Epoch 30/100\n",
      "\u001b[1m86/86\u001b[0m \u001b[32m━━━━━━━━━━━━━━━━━━━━\u001b[0m\u001b[37m\u001b[0m \u001b[1m1s\u001b[0m 8ms/step - category_output_accuracy: 0.3974 - direction_output_accuracy: 0.5769 - distance_output_accuracy: 0.6023 - loss: 3.9168 - val_category_output_accuracy: 0.0731 - val_direction_output_accuracy: 0.6594 - val_distance_output_accuracy: 0.7617 - val_loss: 3.9769\n",
      "Epoch 31/100\n",
      "\u001b[1m86/86\u001b[0m \u001b[32m━━━━━━━━━━━━━━━━━━━━\u001b[0m\u001b[37m\u001b[0m \u001b[1m1s\u001b[0m 8ms/step - category_output_accuracy: 0.4286 - direction_output_accuracy: 0.5651 - distance_output_accuracy: 0.5960 - loss: 3.8874 - val_category_output_accuracy: 0.0336 - val_direction_output_accuracy: 0.6915 - val_distance_output_accuracy: 0.8246 - val_loss: 3.8726\n",
      "Epoch 32/100\n",
      "\u001b[1m86/86\u001b[0m \u001b[32m━━━━━━━━━━━━━━━━━━━━\u001b[0m\u001b[37m\u001b[0m \u001b[1m1s\u001b[0m 8ms/step - category_output_accuracy: 0.3921 - direction_output_accuracy: 0.5822 - distance_output_accuracy: 0.6415 - loss: 3.7996 - val_category_output_accuracy: 0.0365 - val_direction_output_accuracy: 0.6886 - val_distance_output_accuracy: 0.8012 - val_loss: 3.9827\n",
      "Epoch 33/100\n",
      "\u001b[1m86/86\u001b[0m \u001b[32m━━━━━━━━━━━━━━━━━━━━\u001b[0m\u001b[37m\u001b[0m \u001b[1m1s\u001b[0m 7ms/step - category_output_accuracy: 0.4120 - direction_output_accuracy: 0.5790 - distance_output_accuracy: 0.6251 - loss: 3.8187 - val_category_output_accuracy: 0.0643 - val_direction_output_accuracy: 0.7149 - val_distance_output_accuracy: 0.8187 - val_loss: 3.8744\n",
      "Epoch 34/100\n",
      "\u001b[1m86/86\u001b[0m \u001b[32m━━━━━━━━━━━━━━━━━━━━\u001b[0m\u001b[37m\u001b[0m \u001b[1m1s\u001b[0m 7ms/step - category_output_accuracy: 0.4129 - direction_output_accuracy: 0.6035 - distance_output_accuracy: 0.6315 - loss: 3.7344 - val_category_output_accuracy: 0.0570 - val_direction_output_accuracy: 0.7061 - val_distance_output_accuracy: 0.7558 - val_loss: 3.8517\n",
      "Epoch 35/100\n",
      "\u001b[1m86/86\u001b[0m \u001b[32m━━━━━━━━━━━━━━━━━━━━\u001b[0m\u001b[37m\u001b[0m \u001b[1m1s\u001b[0m 7ms/step - category_output_accuracy: 0.4157 - direction_output_accuracy: 0.6061 - distance_output_accuracy: 0.6328 - loss: 3.6823 - val_category_output_accuracy: 0.0292 - val_direction_output_accuracy: 0.6871 - val_distance_output_accuracy: 0.7895 - val_loss: 3.8470\n",
      "Epoch 36/100\n",
      "\u001b[1m86/86\u001b[0m \u001b[32m━━━━━━━━━━━━━━━━━━━━\u001b[0m\u001b[37m\u001b[0m \u001b[1m1s\u001b[0m 6ms/step - category_output_accuracy: 0.4028 - direction_output_accuracy: 0.6022 - distance_output_accuracy: 0.6349 - loss: 3.6818 - val_category_output_accuracy: 0.0599 - val_direction_output_accuracy: 0.6886 - val_distance_output_accuracy: 0.8421 - val_loss: 3.7742\n",
      "Epoch 37/100\n",
      "\u001b[1m86/86\u001b[0m \u001b[32m━━━━━━━━━━━━━━━━━━━━\u001b[0m\u001b[37m\u001b[0m \u001b[1m1s\u001b[0m 8ms/step - category_output_accuracy: 0.4647 - direction_output_accuracy: 0.5741 - distance_output_accuracy: 0.6079 - loss: 3.6275 - val_category_output_accuracy: 0.0789 - val_direction_output_accuracy: 0.6959 - val_distance_output_accuracy: 0.8216 - val_loss: 3.6987\n",
      "Epoch 38/100\n",
      "\u001b[1m86/86\u001b[0m \u001b[32m━━━━━━━━━━━━━━━━━━━━\u001b[0m\u001b[37m\u001b[0m \u001b[1m1s\u001b[0m 8ms/step - category_output_accuracy: 0.4480 - direction_output_accuracy: 0.5905 - distance_output_accuracy: 0.6326 - loss: 3.5913 - val_category_output_accuracy: 0.0863 - val_direction_output_accuracy: 0.7310 - val_distance_output_accuracy: 0.8523 - val_loss: 3.5430\n",
      "Epoch 39/100\n",
      "\u001b[1m86/86\u001b[0m \u001b[32m━━━━━━━━━━━━━━━━━━━━\u001b[0m\u001b[37m\u001b[0m \u001b[1m1s\u001b[0m 7ms/step - category_output_accuracy: 0.4348 - direction_output_accuracy: 0.6147 - distance_output_accuracy: 0.6525 - loss: 3.5516 - val_category_output_accuracy: 0.0994 - val_direction_output_accuracy: 0.7368 - val_distance_output_accuracy: 0.8670 - val_loss: 3.5834\n",
      "Epoch 40/100\n",
      "\u001b[1m86/86\u001b[0m \u001b[32m━━━━━━━━━━━━━━━━━━━━\u001b[0m\u001b[37m\u001b[0m \u001b[1m1s\u001b[0m 12ms/step - category_output_accuracy: 0.4521 - direction_output_accuracy: 0.5980 - distance_output_accuracy: 0.6447 - loss: 3.5327 - val_category_output_accuracy: 0.0892 - val_direction_output_accuracy: 0.7032 - val_distance_output_accuracy: 0.8392 - val_loss: 3.5320\n",
      "Epoch 41/100\n",
      "\u001b[1m86/86\u001b[0m \u001b[32m━━━━━━━━━━━━━━━━━━━━\u001b[0m\u001b[37m\u001b[0m \u001b[1m1s\u001b[0m 8ms/step - category_output_accuracy: 0.4585 - direction_output_accuracy: 0.6049 - distance_output_accuracy: 0.6451 - loss: 3.4720 - val_category_output_accuracy: 0.1447 - val_direction_output_accuracy: 0.7047 - val_distance_output_accuracy: 0.8289 - val_loss: 3.4799\n",
      "Epoch 42/100\n",
      "\u001b[1m86/86\u001b[0m \u001b[32m━━━━━━━━━━━━━━━━━━━━\u001b[0m\u001b[37m\u001b[0m \u001b[1m1s\u001b[0m 9ms/step - category_output_accuracy: 0.4445 - direction_output_accuracy: 0.6186 - distance_output_accuracy: 0.6660 - loss: 3.3904 - val_category_output_accuracy: 0.2091 - val_direction_output_accuracy: 0.6754 - val_distance_output_accuracy: 0.8099 - val_loss: 3.3856\n",
      "Epoch 43/100\n",
      "\u001b[1m86/86\u001b[0m \u001b[32m━━━━━━━━━━━━━━━━━━━━\u001b[0m\u001b[37m\u001b[0m \u001b[1m1s\u001b[0m 9ms/step - category_output_accuracy: 0.4797 - direction_output_accuracy: 0.6075 - distance_output_accuracy: 0.6507 - loss: 3.3694 - val_category_output_accuracy: 0.1155 - val_direction_output_accuracy: 0.6769 - val_distance_output_accuracy: 0.8494 - val_loss: 3.3539\n",
      "Epoch 44/100\n",
      "\u001b[1m86/86\u001b[0m \u001b[32m━━━━━━━━━━━━━━━━━━━━\u001b[0m\u001b[37m\u001b[0m \u001b[1m1s\u001b[0m 7ms/step - category_output_accuracy: 0.4969 - direction_output_accuracy: 0.6201 - distance_output_accuracy: 0.6611 - loss: 3.2974 - val_category_output_accuracy: 0.1740 - val_direction_output_accuracy: 0.7354 - val_distance_output_accuracy: 0.8626 - val_loss: 3.2534\n",
      "Epoch 45/100\n",
      "\u001b[1m86/86\u001b[0m \u001b[32m━━━━━━━━━━━━━━━━━━━━\u001b[0m\u001b[37m\u001b[0m \u001b[1m1s\u001b[0m 5ms/step - category_output_accuracy: 0.4845 - direction_output_accuracy: 0.6210 - distance_output_accuracy: 0.6673 - loss: 3.2694 - val_category_output_accuracy: 0.1915 - val_direction_output_accuracy: 0.6930 - val_distance_output_accuracy: 0.8494 - val_loss: 3.1921\n",
      "Epoch 46/100\n",
      "\u001b[1m86/86\u001b[0m \u001b[32m━━━━━━━━━━━━━━━━━━━━\u001b[0m\u001b[37m\u001b[0m \u001b[1m1s\u001b[0m 7ms/step - category_output_accuracy: 0.4934 - direction_output_accuracy: 0.6255 - distance_output_accuracy: 0.6772 - loss: 3.1800 - val_category_output_accuracy: 0.2178 - val_direction_output_accuracy: 0.7295 - val_distance_output_accuracy: 0.9006 - val_loss: 3.0659\n",
      "Epoch 47/100\n",
      "\u001b[1m86/86\u001b[0m \u001b[32m━━━━━━━━━━━━━━━━━━━━\u001b[0m\u001b[37m\u001b[0m \u001b[1m1s\u001b[0m 7ms/step - category_output_accuracy: 0.4912 - direction_output_accuracy: 0.6288 - distance_output_accuracy: 0.6750 - loss: 3.1703 - val_category_output_accuracy: 0.2076 - val_direction_output_accuracy: 0.7588 - val_distance_output_accuracy: 0.8757 - val_loss: 2.9981\n",
      "Epoch 48/100\n",
      "\u001b[1m86/86\u001b[0m \u001b[32m━━━━━━━━━━━━━━━━━━━━\u001b[0m\u001b[37m\u001b[0m \u001b[1m1s\u001b[0m 7ms/step - category_output_accuracy: 0.5153 - direction_output_accuracy: 0.6186 - distance_output_accuracy: 0.6548 - loss: 3.2294 - val_category_output_accuracy: 0.2003 - val_direction_output_accuracy: 0.6886 - val_distance_output_accuracy: 0.8889 - val_loss: 3.0057\n",
      "Epoch 49/100\n",
      "\u001b[1m86/86\u001b[0m \u001b[32m━━━━━━━━━━━━━━━━━━━━\u001b[0m\u001b[37m\u001b[0m \u001b[1m1s\u001b[0m 9ms/step - category_output_accuracy: 0.5051 - direction_output_accuracy: 0.6263 - distance_output_accuracy: 0.6874 - loss: 3.0849 - val_category_output_accuracy: 0.2602 - val_direction_output_accuracy: 0.7047 - val_distance_output_accuracy: 0.8860 - val_loss: 2.8972\n",
      "Epoch 50/100\n",
      "\u001b[1m86/86\u001b[0m \u001b[32m━━━━━━━━━━━━━━━━━━━━\u001b[0m\u001b[37m\u001b[0m \u001b[1m1s\u001b[0m 7ms/step - category_output_accuracy: 0.5156 - direction_output_accuracy: 0.6454 - distance_output_accuracy: 0.6881 - loss: 3.0526 - val_category_output_accuracy: 0.2208 - val_direction_output_accuracy: 0.6974 - val_distance_output_accuracy: 0.8947 - val_loss: 2.9494\n",
      "Epoch 51/100\n",
      "\u001b[1m86/86\u001b[0m \u001b[32m━━━━━━━━━━━━━━━━━━━━\u001b[0m\u001b[37m\u001b[0m \u001b[1m1s\u001b[0m 8ms/step - category_output_accuracy: 0.5422 - direction_output_accuracy: 0.6026 - distance_output_accuracy: 0.6838 - loss: 3.0118 - val_category_output_accuracy: 0.3216 - val_direction_output_accuracy: 0.6944 - val_distance_output_accuracy: 0.8889 - val_loss: 2.8368\n",
      "Epoch 52/100\n",
      "\u001b[1m86/86\u001b[0m \u001b[32m━━━━━━━━━━━━━━━━━━━━\u001b[0m\u001b[37m\u001b[0m \u001b[1m1s\u001b[0m 8ms/step - category_output_accuracy: 0.5218 - direction_output_accuracy: 0.6204 - distance_output_accuracy: 0.6961 - loss: 2.9198 - val_category_output_accuracy: 0.2602 - val_direction_output_accuracy: 0.7325 - val_distance_output_accuracy: 0.8918 - val_loss: 2.7859\n",
      "Epoch 53/100\n",
      "\u001b[1m86/86\u001b[0m \u001b[32m━━━━━━━━━━━━━━━━━━━━\u001b[0m\u001b[37m\u001b[0m \u001b[1m1s\u001b[0m 7ms/step - category_output_accuracy: 0.5289 - direction_output_accuracy: 0.6356 - distance_output_accuracy: 0.7039 - loss: 2.9699 - val_category_output_accuracy: 0.3275 - val_direction_output_accuracy: 0.7675 - val_distance_output_accuracy: 0.9064 - val_loss: 2.7207\n",
      "Epoch 54/100\n",
      "\u001b[1m86/86\u001b[0m \u001b[32m━━━━━━━━━━━━━━━━━━━━\u001b[0m\u001b[37m\u001b[0m \u001b[1m1s\u001b[0m 8ms/step - category_output_accuracy: 0.5460 - direction_output_accuracy: 0.6286 - distance_output_accuracy: 0.7002 - loss: 2.8945 - val_category_output_accuracy: 0.3699 - val_direction_output_accuracy: 0.7339 - val_distance_output_accuracy: 0.9006 - val_loss: 2.6562\n",
      "Epoch 55/100\n",
      "\u001b[1m86/86\u001b[0m \u001b[32m━━━━━━━━━━━━━━━━━━━━\u001b[0m\u001b[37m\u001b[0m \u001b[1m1s\u001b[0m 7ms/step - category_output_accuracy: 0.5690 - direction_output_accuracy: 0.6446 - distance_output_accuracy: 0.6908 - loss: 2.8162 - val_category_output_accuracy: 0.3099 - val_direction_output_accuracy: 0.7515 - val_distance_output_accuracy: 0.9225 - val_loss: 2.6416\n",
      "Epoch 56/100\n",
      "\u001b[1m86/86\u001b[0m \u001b[32m━━━━━━━━━━━━━━━━━━━━\u001b[0m\u001b[37m\u001b[0m \u001b[1m1s\u001b[0m 5ms/step - category_output_accuracy: 0.5423 - direction_output_accuracy: 0.6477 - distance_output_accuracy: 0.6975 - loss: 2.8717 - val_category_output_accuracy: 0.3129 - val_direction_output_accuracy: 0.7427 - val_distance_output_accuracy: 0.9006 - val_loss: 2.6343\n",
      "Epoch 57/100\n",
      "\u001b[1m86/86\u001b[0m \u001b[32m━━━━━━━━━━━━━━━━━━━━\u001b[0m\u001b[37m\u001b[0m \u001b[1m1s\u001b[0m 7ms/step - category_output_accuracy: 0.5571 - direction_output_accuracy: 0.6351 - distance_output_accuracy: 0.7009 - loss: 2.8418 - val_category_output_accuracy: 0.3538 - val_direction_output_accuracy: 0.7485 - val_distance_output_accuracy: 0.9035 - val_loss: 2.5742\n",
      "Epoch 58/100\n",
      "\u001b[1m86/86\u001b[0m \u001b[32m━━━━━━━━━━━━━━━━━━━━\u001b[0m\u001b[37m\u001b[0m \u001b[1m1s\u001b[0m 12ms/step - category_output_accuracy: 0.5655 - direction_output_accuracy: 0.6616 - distance_output_accuracy: 0.7166 - loss: 2.7783 - val_category_output_accuracy: 0.3333 - val_direction_output_accuracy: 0.7485 - val_distance_output_accuracy: 0.9152 - val_loss: 2.5104\n",
      "Epoch 59/100\n",
      "\u001b[1m86/86\u001b[0m \u001b[32m━━━━━━━━━━━━━━━━━━━━\u001b[0m\u001b[37m\u001b[0m \u001b[1m1s\u001b[0m 6ms/step - category_output_accuracy: 0.5713 - direction_output_accuracy: 0.6405 - distance_output_accuracy: 0.7017 - loss: 2.7899 - val_category_output_accuracy: 0.3216 - val_direction_output_accuracy: 0.7515 - val_distance_output_accuracy: 0.9079 - val_loss: 2.4923\n",
      "Epoch 60/100\n",
      "\u001b[1m86/86\u001b[0m \u001b[32m━━━━━━━━━━━━━━━━━━━━\u001b[0m\u001b[37m\u001b[0m \u001b[1m1s\u001b[0m 7ms/step - category_output_accuracy: 0.5640 - direction_output_accuracy: 0.6574 - distance_output_accuracy: 0.7152 - loss: 2.7541 - val_category_output_accuracy: 0.3860 - val_direction_output_accuracy: 0.7646 - val_distance_output_accuracy: 0.9020 - val_loss: 2.4623\n",
      "Epoch 61/100\n",
      "\u001b[1m86/86\u001b[0m \u001b[32m━━━━━━━━━━━━━━━━━━━━\u001b[0m\u001b[37m\u001b[0m \u001b[1m1s\u001b[0m 7ms/step - category_output_accuracy: 0.5894 - direction_output_accuracy: 0.6576 - distance_output_accuracy: 0.6994 - loss: 2.6937 - val_category_output_accuracy: 0.4006 - val_direction_output_accuracy: 0.7646 - val_distance_output_accuracy: 0.8977 - val_loss: 2.3813\n",
      "Epoch 62/100\n",
      "\u001b[1m86/86\u001b[0m \u001b[32m━━━━━━━━━━━━━━━━━━━━\u001b[0m\u001b[37m\u001b[0m \u001b[1m1s\u001b[0m 8ms/step - category_output_accuracy: 0.6012 - direction_output_accuracy: 0.6540 - distance_output_accuracy: 0.7128 - loss: 2.6446 - val_category_output_accuracy: 0.4605 - val_direction_output_accuracy: 0.7442 - val_distance_output_accuracy: 0.9050 - val_loss: 2.3049\n",
      "Epoch 63/100\n",
      "\u001b[1m86/86\u001b[0m \u001b[32m━━━━━━━━━━━━━━━━━━━━\u001b[0m\u001b[37m\u001b[0m \u001b[1m1s\u001b[0m 7ms/step - category_output_accuracy: 0.6081 - direction_output_accuracy: 0.6490 - distance_output_accuracy: 0.7054 - loss: 2.6787 - val_category_output_accuracy: 0.5073 - val_direction_output_accuracy: 0.7807 - val_distance_output_accuracy: 0.9225 - val_loss: 2.2044\n",
      "Epoch 64/100\n",
      "\u001b[1m86/86\u001b[0m \u001b[32m━━━━━━━━━━━━━━━━━━━━\u001b[0m\u001b[37m\u001b[0m \u001b[1m1s\u001b[0m 8ms/step - category_output_accuracy: 0.6118 - direction_output_accuracy: 0.6493 - distance_output_accuracy: 0.7161 - loss: 2.5761 - val_category_output_accuracy: 0.4547 - val_direction_output_accuracy: 0.7529 - val_distance_output_accuracy: 0.9152 - val_loss: 2.2258\n",
      "Epoch 65/100\n",
      "\u001b[1m86/86\u001b[0m \u001b[32m━━━━━━━━━━━━━━━━━━━━\u001b[0m\u001b[37m\u001b[0m \u001b[1m1s\u001b[0m 8ms/step - category_output_accuracy: 0.6314 - direction_output_accuracy: 0.6528 - distance_output_accuracy: 0.7098 - loss: 2.5854 - val_category_output_accuracy: 0.4327 - val_direction_output_accuracy: 0.7822 - val_distance_output_accuracy: 0.9225 - val_loss: 2.2162\n",
      "Epoch 66/100\n",
      "\u001b[1m86/86\u001b[0m \u001b[32m━━━━━━━━━━━━━━━━━━━━\u001b[0m\u001b[37m\u001b[0m \u001b[1m1s\u001b[0m 6ms/step - category_output_accuracy: 0.5970 - direction_output_accuracy: 0.6583 - distance_output_accuracy: 0.7052 - loss: 2.6822 - val_category_output_accuracy: 0.4781 - val_direction_output_accuracy: 0.7719 - val_distance_output_accuracy: 0.9152 - val_loss: 2.1959\n",
      "Epoch 67/100\n",
      "\u001b[1m86/86\u001b[0m \u001b[32m━━━━━━━━━━━━━━━━━━━━\u001b[0m\u001b[37m\u001b[0m \u001b[1m1s\u001b[0m 7ms/step - category_output_accuracy: 0.6204 - direction_output_accuracy: 0.6688 - distance_output_accuracy: 0.7094 - loss: 2.5654 - val_category_output_accuracy: 0.4664 - val_direction_output_accuracy: 0.7705 - val_distance_output_accuracy: 0.9094 - val_loss: 2.1698\n",
      "Epoch 68/100\n",
      "\u001b[1m86/86\u001b[0m \u001b[32m━━━━━━━━━━━━━━━━━━━━\u001b[0m\u001b[37m\u001b[0m \u001b[1m1s\u001b[0m 5ms/step - category_output_accuracy: 0.6134 - direction_output_accuracy: 0.6770 - distance_output_accuracy: 0.7090 - loss: 2.5676 - val_category_output_accuracy: 0.5117 - val_direction_output_accuracy: 0.7778 - val_distance_output_accuracy: 0.9094 - val_loss: 2.0653\n",
      "Epoch 69/100\n",
      "\u001b[1m86/86\u001b[0m \u001b[32m━━━━━━━━━━━━━━━━━━━━\u001b[0m\u001b[37m\u001b[0m \u001b[1m1s\u001b[0m 8ms/step - category_output_accuracy: 0.6182 - direction_output_accuracy: 0.6466 - distance_output_accuracy: 0.7339 - loss: 2.5311 - val_category_output_accuracy: 0.5424 - val_direction_output_accuracy: 0.7865 - val_distance_output_accuracy: 0.9225 - val_loss: 1.9948\n",
      "Epoch 70/100\n",
      "\u001b[1m86/86\u001b[0m \u001b[32m━━━━━━━━━━━━━━━━━━━━\u001b[0m\u001b[37m\u001b[0m \u001b[1m1s\u001b[0m 7ms/step - category_output_accuracy: 0.6101 - direction_output_accuracy: 0.6702 - distance_output_accuracy: 0.7218 - loss: 2.5313 - val_category_output_accuracy: 0.4971 - val_direction_output_accuracy: 0.7822 - val_distance_output_accuracy: 0.9064 - val_loss: 2.0608\n",
      "Epoch 71/100\n",
      "\u001b[1m86/86\u001b[0m \u001b[32m━━━━━━━━━━━━━━━━━━━━\u001b[0m\u001b[37m\u001b[0m \u001b[1m1s\u001b[0m 6ms/step - category_output_accuracy: 0.6386 - direction_output_accuracy: 0.6557 - distance_output_accuracy: 0.7357 - loss: 2.4306 - val_category_output_accuracy: 0.5292 - val_direction_output_accuracy: 0.7675 - val_distance_output_accuracy: 0.9167 - val_loss: 2.0387\n",
      "Epoch 72/100\n",
      "\u001b[1m86/86\u001b[0m \u001b[32m━━━━━━━━━━━━━━━━━━━━\u001b[0m\u001b[37m\u001b[0m \u001b[1m1s\u001b[0m 8ms/step - category_output_accuracy: 0.6552 - direction_output_accuracy: 0.6542 - distance_output_accuracy: 0.7168 - loss: 2.4418 - val_category_output_accuracy: 0.5278 - val_direction_output_accuracy: 0.7749 - val_distance_output_accuracy: 0.9225 - val_loss: 1.9525\n",
      "Epoch 73/100\n",
      "\u001b[1m86/86\u001b[0m \u001b[32m━━━━━━━━━━━━━━━━━━━━\u001b[0m\u001b[37m\u001b[0m \u001b[1m1s\u001b[0m 9ms/step - category_output_accuracy: 0.6465 - direction_output_accuracy: 0.6450 - distance_output_accuracy: 0.7225 - loss: 2.4575 - val_category_output_accuracy: 0.5307 - val_direction_output_accuracy: 0.7939 - val_distance_output_accuracy: 0.9284 - val_loss: 1.9486\n",
      "Epoch 74/100\n",
      "\u001b[1m86/86\u001b[0m \u001b[32m━━━━━━━━━━━━━━━━━━━━\u001b[0m\u001b[37m\u001b[0m \u001b[1m1s\u001b[0m 7ms/step - category_output_accuracy: 0.6398 - direction_output_accuracy: 0.6836 - distance_output_accuracy: 0.7470 - loss: 2.3809 - val_category_output_accuracy: 0.5921 - val_direction_output_accuracy: 0.7836 - val_distance_output_accuracy: 0.9181 - val_loss: 1.9310\n",
      "Epoch 75/100\n",
      "\u001b[1m86/86\u001b[0m \u001b[32m━━━━━━━━━━━━━━━━━━━━\u001b[0m\u001b[37m\u001b[0m \u001b[1m1s\u001b[0m 5ms/step - category_output_accuracy: 0.6503 - direction_output_accuracy: 0.6801 - distance_output_accuracy: 0.7154 - loss: 2.3918 - val_category_output_accuracy: 0.5629 - val_direction_output_accuracy: 0.8070 - val_distance_output_accuracy: 0.9313 - val_loss: 1.8207\n",
      "Epoch 76/100\n",
      "\u001b[1m86/86\u001b[0m \u001b[32m━━━━━━━━━━━━━━━━━━━━\u001b[0m\u001b[37m\u001b[0m \u001b[1m1s\u001b[0m 7ms/step - category_output_accuracy: 0.6331 - direction_output_accuracy: 0.6774 - distance_output_accuracy: 0.7527 - loss: 2.2982 - val_category_output_accuracy: 0.5614 - val_direction_output_accuracy: 0.8012 - val_distance_output_accuracy: 0.9108 - val_loss: 1.8911\n",
      "Epoch 77/100\n",
      "\u001b[1m86/86\u001b[0m \u001b[32m━━━━━━━━━━━━━━━━━━━━\u001b[0m\u001b[37m\u001b[0m \u001b[1m1s\u001b[0m 11ms/step - category_output_accuracy: 0.6729 - direction_output_accuracy: 0.6704 - distance_output_accuracy: 0.7352 - loss: 2.3384 - val_category_output_accuracy: 0.5702 - val_direction_output_accuracy: 0.8114 - val_distance_output_accuracy: 0.9254 - val_loss: 1.8206\n",
      "Epoch 78/100\n",
      "\u001b[1m86/86\u001b[0m \u001b[32m━━━━━━━━━━━━━━━━━━━━\u001b[0m\u001b[37m\u001b[0m \u001b[1m1s\u001b[0m 5ms/step - category_output_accuracy: 0.6713 - direction_output_accuracy: 0.6777 - distance_output_accuracy: 0.7212 - loss: 2.3561 - val_category_output_accuracy: 0.5863 - val_direction_output_accuracy: 0.8026 - val_distance_output_accuracy: 0.9240 - val_loss: 1.8394\n",
      "Epoch 79/100\n",
      "\u001b[1m86/86\u001b[0m \u001b[32m━━━━━━━━━━━━━━━━━━━━\u001b[0m\u001b[37m\u001b[0m \u001b[1m1s\u001b[0m 9ms/step - category_output_accuracy: 0.6663 - direction_output_accuracy: 0.6956 - distance_output_accuracy: 0.7444 - loss: 2.2927 - val_category_output_accuracy: 0.5848 - val_direction_output_accuracy: 0.8012 - val_distance_output_accuracy: 0.9196 - val_loss: 1.7826\n",
      "Epoch 80/100\n",
      "\u001b[1m86/86\u001b[0m \u001b[32m━━━━━━━━━━━━━━━━━━━━\u001b[0m\u001b[37m\u001b[0m \u001b[1m1s\u001b[0m 6ms/step - category_output_accuracy: 0.6682 - direction_output_accuracy: 0.6842 - distance_output_accuracy: 0.7378 - loss: 2.2704 - val_category_output_accuracy: 0.5468 - val_direction_output_accuracy: 0.8158 - val_distance_output_accuracy: 0.9313 - val_loss: 1.8183\n",
      "Epoch 81/100\n",
      "\u001b[1m86/86\u001b[0m \u001b[32m━━━━━━━━━━━━━━━━━━━━\u001b[0m\u001b[37m\u001b[0m \u001b[1m1s\u001b[0m 8ms/step - category_output_accuracy: 0.6676 - direction_output_accuracy: 0.6664 - distance_output_accuracy: 0.7425 - loss: 2.3428 - val_category_output_accuracy: 0.6272 - val_direction_output_accuracy: 0.8129 - val_distance_output_accuracy: 0.9181 - val_loss: 1.7003\n",
      "Epoch 82/100\n",
      "\u001b[1m86/86\u001b[0m \u001b[32m━━━━━━━━━━━━━━━━━━━━\u001b[0m\u001b[37m\u001b[0m \u001b[1m1s\u001b[0m 9ms/step - category_output_accuracy: 0.6766 - direction_output_accuracy: 0.7001 - distance_output_accuracy: 0.7602 - loss: 2.1939 - val_category_output_accuracy: 0.6126 - val_direction_output_accuracy: 0.7997 - val_distance_output_accuracy: 0.9225 - val_loss: 1.6682\n",
      "Epoch 83/100\n",
      "\u001b[1m86/86\u001b[0m \u001b[32m━━━━━━━━━━━━━━━━━━━━\u001b[0m\u001b[37m\u001b[0m \u001b[1m1s\u001b[0m 6ms/step - category_output_accuracy: 0.6736 - direction_output_accuracy: 0.6955 - distance_output_accuracy: 0.7588 - loss: 2.1768 - val_category_output_accuracy: 0.6301 - val_direction_output_accuracy: 0.8085 - val_distance_output_accuracy: 0.9284 - val_loss: 1.6667\n",
      "Epoch 84/100\n",
      "\u001b[1m86/86\u001b[0m \u001b[32m━━━━━━━━━━━━━━━━━━━━\u001b[0m\u001b[37m\u001b[0m \u001b[1m1s\u001b[0m 9ms/step - category_output_accuracy: 0.6755 - direction_output_accuracy: 0.6933 - distance_output_accuracy: 0.7419 - loss: 2.2110 - val_category_output_accuracy: 0.6199 - val_direction_output_accuracy: 0.8041 - val_distance_output_accuracy: 0.9225 - val_loss: 1.7259\n",
      "Epoch 85/100\n",
      "\u001b[1m86/86\u001b[0m \u001b[32m━━━━━━━━━━━━━━━━━━━━\u001b[0m\u001b[37m\u001b[0m \u001b[1m1s\u001b[0m 7ms/step - category_output_accuracy: 0.6844 - direction_output_accuracy: 0.6828 - distance_output_accuracy: 0.7518 - loss: 2.2460 - val_category_output_accuracy: 0.6418 - val_direction_output_accuracy: 0.8289 - val_distance_output_accuracy: 0.9357 - val_loss: 1.6201\n",
      "Epoch 86/100\n",
      "\u001b[1m86/86\u001b[0m \u001b[32m━━━━━━━━━━━━━━━━━━━━\u001b[0m\u001b[37m\u001b[0m \u001b[1m1s\u001b[0m 8ms/step - category_output_accuracy: 0.7069 - direction_output_accuracy: 0.7069 - distance_output_accuracy: 0.7467 - loss: 2.1598 - val_category_output_accuracy: 0.6213 - val_direction_output_accuracy: 0.8231 - val_distance_output_accuracy: 0.9430 - val_loss: 1.7189\n",
      "Epoch 87/100\n",
      "\u001b[1m86/86\u001b[0m \u001b[32m━━━━━━━━━━━━━━━━━━━━\u001b[0m\u001b[37m\u001b[0m \u001b[1m1s\u001b[0m 8ms/step - category_output_accuracy: 0.6887 - direction_output_accuracy: 0.6775 - distance_output_accuracy: 0.7367 - loss: 2.2250 - val_category_output_accuracy: 0.6711 - val_direction_output_accuracy: 0.8260 - val_distance_output_accuracy: 0.9357 - val_loss: 1.5879\n",
      "Epoch 88/100\n",
      "\u001b[1m86/86\u001b[0m \u001b[32m━━━━━━━━━━━━━━━━━━━━\u001b[0m\u001b[37m\u001b[0m \u001b[1m1s\u001b[0m 6ms/step - category_output_accuracy: 0.6883 - direction_output_accuracy: 0.7090 - distance_output_accuracy: 0.7655 - loss: 2.1255 - val_category_output_accuracy: 0.6974 - val_direction_output_accuracy: 0.8056 - val_distance_output_accuracy: 0.9371 - val_loss: 1.5534\n",
      "Epoch 89/100\n",
      "\u001b[1m86/86\u001b[0m \u001b[32m━━━━━━━━━━━━━━━━━━━━\u001b[0m\u001b[37m\u001b[0m \u001b[1m1s\u001b[0m 9ms/step - category_output_accuracy: 0.7162 - direction_output_accuracy: 0.6827 - distance_output_accuracy: 0.7517 - loss: 2.1579 - val_category_output_accuracy: 0.6857 - val_direction_output_accuracy: 0.8056 - val_distance_output_accuracy: 0.9459 - val_loss: 1.5253\n",
      "Epoch 90/100\n",
      "\u001b[1m86/86\u001b[0m \u001b[32m━━━━━━━━━━━━━━━━━━━━\u001b[0m\u001b[37m\u001b[0m \u001b[1m1s\u001b[0m 8ms/step - category_output_accuracy: 0.6946 - direction_output_accuracy: 0.6821 - distance_output_accuracy: 0.7513 - loss: 2.1586 - val_category_output_accuracy: 0.6579 - val_direction_output_accuracy: 0.8333 - val_distance_output_accuracy: 0.9488 - val_loss: 1.4811\n",
      "Epoch 91/100\n",
      "\u001b[1m86/86\u001b[0m \u001b[32m━━━━━━━━━━━━━━━━━━━━\u001b[0m\u001b[37m\u001b[0m \u001b[1m1s\u001b[0m 8ms/step - category_output_accuracy: 0.6972 - direction_output_accuracy: 0.6911 - distance_output_accuracy: 0.7592 - loss: 2.0641 - val_category_output_accuracy: 0.6535 - val_direction_output_accuracy: 0.8333 - val_distance_output_accuracy: 0.9635 - val_loss: 1.5229\n",
      "Epoch 92/100\n",
      "\u001b[1m86/86\u001b[0m \u001b[32m━━━━━━━━━━━━━━━━━━━━\u001b[0m\u001b[37m\u001b[0m \u001b[1m1s\u001b[0m 7ms/step - category_output_accuracy: 0.7280 - direction_output_accuracy: 0.6975 - distance_output_accuracy: 0.7531 - loss: 2.0257 - val_category_output_accuracy: 0.6959 - val_direction_output_accuracy: 0.8246 - val_distance_output_accuracy: 0.9503 - val_loss: 1.5116\n",
      "Epoch 93/100\n",
      "\u001b[1m86/86\u001b[0m \u001b[32m━━━━━━━━━━━━━━━━━━━━\u001b[0m\u001b[37m\u001b[0m \u001b[1m1s\u001b[0m 7ms/step - category_output_accuracy: 0.7203 - direction_output_accuracy: 0.6950 - distance_output_accuracy: 0.7504 - loss: 2.0713 - val_category_output_accuracy: 0.6769 - val_direction_output_accuracy: 0.8099 - val_distance_output_accuracy: 0.9240 - val_loss: 1.5071\n",
      "Epoch 94/100\n",
      "\u001b[1m86/86\u001b[0m \u001b[32m━━━━━━━━━━━━━━━━━━━━\u001b[0m\u001b[37m\u001b[0m \u001b[1m1s\u001b[0m 8ms/step - category_output_accuracy: 0.7151 - direction_output_accuracy: 0.6765 - distance_output_accuracy: 0.7331 - loss: 2.1390 - val_category_output_accuracy: 0.6871 - val_direction_output_accuracy: 0.8319 - val_distance_output_accuracy: 0.9576 - val_loss: 1.4978\n",
      "Epoch 95/100\n",
      "\u001b[1m86/86\u001b[0m \u001b[32m━━━━━━━━━━━━━━━━━━━━\u001b[0m\u001b[37m\u001b[0m \u001b[1m1s\u001b[0m 9ms/step - category_output_accuracy: 0.7392 - direction_output_accuracy: 0.6995 - distance_output_accuracy: 0.7634 - loss: 2.0070 - val_category_output_accuracy: 0.6798 - val_direction_output_accuracy: 0.8231 - val_distance_output_accuracy: 0.9474 - val_loss: 1.4858\n",
      "Epoch 96/100\n",
      "\u001b[1m86/86\u001b[0m \u001b[32m━━━━━━━━━━━━━━━━━━━━\u001b[0m\u001b[37m\u001b[0m \u001b[1m1s\u001b[0m 10ms/step - category_output_accuracy: 0.7193 - direction_output_accuracy: 0.7050 - distance_output_accuracy: 0.7602 - loss: 2.0287 - val_category_output_accuracy: 0.7325 - val_direction_output_accuracy: 0.8377 - val_distance_output_accuracy: 0.9532 - val_loss: 1.4080\n",
      "Epoch 97/100\n",
      "\u001b[1m86/86\u001b[0m \u001b[32m━━━━━━━━━━━━━━━━━━━━\u001b[0m\u001b[37m\u001b[0m \u001b[1m1s\u001b[0m 7ms/step - category_output_accuracy: 0.7239 - direction_output_accuracy: 0.6836 - distance_output_accuracy: 0.7607 - loss: 2.0707 - val_category_output_accuracy: 0.6915 - val_direction_output_accuracy: 0.8216 - val_distance_output_accuracy: 0.9576 - val_loss: 1.4573\n",
      "Epoch 98/100\n",
      "\u001b[1m86/86\u001b[0m \u001b[32m━━━━━━━━━━━━━━━━━━━━\u001b[0m\u001b[37m\u001b[0m \u001b[1m1s\u001b[0m 7ms/step - category_output_accuracy: 0.7110 - direction_output_accuracy: 0.7056 - distance_output_accuracy: 0.7532 - loss: 2.0040 - val_category_output_accuracy: 0.7047 - val_direction_output_accuracy: 0.8275 - val_distance_output_accuracy: 0.9649 - val_loss: 1.4025\n",
      "Epoch 99/100\n",
      "\u001b[1m86/86\u001b[0m \u001b[32m━━━━━━━━━━━━━━━━━━━━\u001b[0m\u001b[37m\u001b[0m \u001b[1m1s\u001b[0m 7ms/step - category_output_accuracy: 0.7276 - direction_output_accuracy: 0.7073 - distance_output_accuracy: 0.7716 - loss: 1.9855 - val_category_output_accuracy: 0.7018 - val_direction_output_accuracy: 0.8231 - val_distance_output_accuracy: 0.9576 - val_loss: 1.3893\n",
      "Epoch 100/100\n",
      "\u001b[1m86/86\u001b[0m \u001b[32m━━━━━━━━━━━━━━━━━━━━\u001b[0m\u001b[37m\u001b[0m \u001b[1m1s\u001b[0m 6ms/step - category_output_accuracy: 0.7350 - direction_output_accuracy: 0.6994 - distance_output_accuracy: 0.7541 - loss: 2.0450 - val_category_output_accuracy: 0.7792 - val_direction_output_accuracy: 0.8202 - val_distance_output_accuracy: 0.9371 - val_loss: 1.2828\n"
     ]
    }
   ],
   "source": [
    "history = model.fit(X_train,\n",
    "                    {'category_output': y_cate_train_encoded, \n",
    "                     'direction_output': y_direction_train_encoded, \n",
    "                     'distance_output': y_dist_train_encoded},\n",
    "                    epochs=100,\n",
    "                    batch_size=32,  \n",
    "                    validation_split=0.2, \n",
    "                    verbose=1)\n"
   ]
  },
  {
   "cell_type": "code",
   "execution_count": 142,
   "metadata": {},
   "outputs": [
    {
     "name": "stdout",
     "output_type": "stream",
     "text": [
      "\u001b[1m30/30\u001b[0m \u001b[32m━━━━━━━━━━━━━━━━━━━━\u001b[0m\u001b[37m\u001b[0m \u001b[1m0s\u001b[0m 6ms/step\n",
      "Category Accuracy: 0.7164\n",
      "Direction Accuracy: 0.8529\n",
      "Distance Accuracy: 0.8931\n"
     ]
    }
   ],
   "source": [
    "predictions = model.predict(X_test)\n",
    "\n",
    "pred_category = predictions[0]\n",
    "pred_direction = predictions[1]\n",
    "pred_distance = predictions[2]\n",
    "\n",
    "category_accuracy = np.mean(np.argmax(pred_category, axis=1) == y_cate_test_encoded)\n",
    "direction_accuracy = np.mean(np.argmax(pred_direction, axis=1) == y_direction_test_encoded)\n",
    "distance_accuracy = np.mean(np.argmax(pred_distance, axis=1) == y_dist_test_encoded)\n",
    "\n",
    "print(f\"Category Accuracy: {category_accuracy:.4f}\")\n",
    "print(f\"Direction Accuracy: {direction_accuracy:.4f}\")\n",
    "print(f\"Distance Accuracy: {distance_accuracy:.4f}\")"
   ]
  },
  {
   "cell_type": "code",
   "execution_count": null,
   "metadata": {},
   "outputs": [],
   "source": []
  }
 ],
 "metadata": {
  "kernelspec": {
   "display_name": "Python 3",
   "language": "python",
   "name": "python3"
  },
  "language_info": {
   "codemirror_mode": {
    "name": "ipython",
    "version": 3
   },
   "file_extension": ".py",
   "mimetype": "text/x-python",
   "name": "python",
   "nbconvert_exporter": "python",
   "pygments_lexer": "ipython3",
   "version": "3.12.4"
  }
 },
 "nbformat": 4,
 "nbformat_minor": 2
}
